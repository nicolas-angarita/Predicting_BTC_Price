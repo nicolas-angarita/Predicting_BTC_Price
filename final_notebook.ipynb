{
 "cells": [
  {
   "cell_type": "markdown",
   "id": "570189f2",
   "metadata": {},
   "source": [
    "# <h1><center>*Predicting Bitcoin's Price*</center></h1>"
   ]
  },
  {
   "cell_type": "markdown",
   "id": "5a765dd5",
   "metadata": {},
   "source": [
    "# Goals:\n",
    "\n",
    "- Identify if there is a correlation between BTC (Bitcoin), DJI (Dow Jones Industrial Average), and Gold \n",
    "- Build a model to best predict BTC's price in the next 6 months\n",
    " ___"
   ]
  },
  {
   "cell_type": "markdown",
   "id": "68bcc496",
   "metadata": {},
   "source": [
    "# Imports"
   ]
  },
  {
   "cell_type": "code",
   "execution_count": 11,
   "id": "3a6d6d13",
   "metadata": {},
   "outputs": [],
   "source": [
    "import pandas as pd\n",
    "import numpy as np \n",
    "\n",
    "import yfinance as yf\n",
    "import mplfinance as mpf\n",
    "import acquire as a\n",
    "import prepare as p\n",
    "\n",
    "import matplotlib.pyplot as plt\n",
    "import seaborn as sns\n",
    "\n",
    "from datetime import datetime\n",
    "\n",
    "import statsmodels.api as sm\n",
    "from statsmodels.tsa.api import Holt, ExponentialSmoothing\n",
    "np.random.seed(0)\n",
    "\n",
    "from sklearn.metrics import mean_squared_error\n",
    "from math import sqrt \n",
    "\n",
    "from scipy.stats import pearsonr\n",
    "\n",
    "import warnings\n",
    "warnings.filterwarnings(\"ignore\")\n",
    "\n",
    "%matplotlib inline"
   ]
  },
  {
   "cell_type": "markdown",
   "id": "8e93f1b9",
   "metadata": {},
   "source": [
    "---------------------------------------------------------------------------------------------------------------"
   ]
  },
  {
   "cell_type": "markdown",
   "id": "be0fecc9",
   "metadata": {},
   "source": [
    "# Acquire"
   ]
  },
  {
   "cell_type": "markdown",
   "id": "cc575d79",
   "metadata": {},
   "source": [
    " - Data acquired through Yahoo Finance Library\n",
    " - Wrote a function in my acquire.py file that includes to extract the data\n",
    " - Combined the 3 different dataframes\n",
    " - It contained 2,085 rows and 3 columns before cleaning\n",
    " - Each row represents a specific day in the dataset\n",
    " - Each column represents the price related to each asset \n",
    " \n",
    " __________"
   ]
  },
  {
   "cell_type": "markdown",
   "id": "8069cc9c",
   "metadata": {},
   "source": [
    "# Prepare"
   ]
  },
  {
   "cell_type": "markdown",
   "id": "1742ae8c",
   "metadata": {},
   "source": [
    " - Checked for nulls in the data(there were none)\n",
    " - Checked that column data types were appropriate\n",
    " - Renamed columns\n",
    " - Resampled data into Yearly, Quarterly, Monthly and assigned to their respective variables\n",
    " - Split data into train, validate and test (approx. 50/30/20)\n",
    " \n",
    " _____"
   ]
  },
  {
   "cell_type": "markdown",
   "id": "37686814",
   "metadata": {},
   "source": [
    "# Data Dictionary"
   ]
  },
  {
   "cell_type": "markdown",
   "id": "e6785c84",
   "metadata": {},
   "source": [
    "\n",
    "| Target Variable |     Definition     |\n",
    "| --------------- | ------------------ |\n",
    "|      btc_price    | price of Bitcoin |\n",
    "\n",
    "| Feature  | Definition |\n",
    "| ------------- | ------------- |\n",
    "| open | Opening price of the asset |\n",
    "| high | The high price point of the asset  |\n",
    "| low | The low price point of the asset |\n",
    "| close | The closing price of the asset |\n",
    "| adj close | The closing price after adjustments |\n",
    "| volume | The amount of an asset that changes hands | \n",
    "| dji_price | The price of the Dow Jones Industrial Average |\n",
    "| gold | The price of gold per ounce|\n",
    "\n",
    "_____"
   ]
  },
  {
   "cell_type": "markdown",
   "id": "b2f50063",
   "metadata": {},
   "source": [
    "# A brief look at the data"
   ]
  },
  {
   "cell_type": "code",
   "execution_count": 2,
   "id": "33185c26",
   "metadata": {},
   "outputs": [
    {
     "name": "stdout",
     "output_type": "stream",
     "text": [
      "[*********************100%***********************]  1 of 1 completed\n",
      "[*********************100%***********************]  1 of 1 completed\n",
      "[*********************100%***********************]  1 of 1 completed\n"
     ]
    }
   ],
   "source": [
    "# acquiring and merging the necessary data \n",
    "btc_df, gold_df, dji_df = a.asset_price(2010)\n",
    "df = a.merged_assets(btc_df, gold_df, dji_df)"
   ]
  },
  {
   "cell_type": "code",
   "execution_count": 3,
   "id": "5ce1ac0b",
   "metadata": {},
   "outputs": [],
   "source": [
    "# preparing and cleaning the data\n",
    "df, df_year, df_month, df_quarter = p.clean_df(df)"
   ]
  },
  {
   "cell_type": "code",
   "execution_count": 4,
   "id": "e7d76c52",
   "metadata": {},
   "outputs": [
    {
     "data": {
      "text/html": [
       "<div>\n",
       "<style scoped>\n",
       "    .dataframe tbody tr th:only-of-type {\n",
       "        vertical-align: middle;\n",
       "    }\n",
       "\n",
       "    .dataframe tbody tr th {\n",
       "        vertical-align: top;\n",
       "    }\n",
       "\n",
       "    .dataframe thead th {\n",
       "        text-align: right;\n",
       "    }\n",
       "</style>\n",
       "<table border=\"1\" class=\"dataframe\">\n",
       "  <thead>\n",
       "    <tr style=\"text-align: right;\">\n",
       "      <th></th>\n",
       "      <th>btc_price</th>\n",
       "      <th>gold_price</th>\n",
       "      <th>dji_price</th>\n",
       "    </tr>\n",
       "    <tr>\n",
       "      <th>date</th>\n",
       "      <th></th>\n",
       "      <th></th>\n",
       "      <th></th>\n",
       "    </tr>\n",
       "  </thead>\n",
       "  <tbody>\n",
       "    <tr>\n",
       "      <th>2014-09-17</th>\n",
       "      <td>457.33</td>\n",
       "      <td>1234.4</td>\n",
       "      <td>17156.85</td>\n",
       "    </tr>\n",
       "    <tr>\n",
       "      <th>2014-09-18</th>\n",
       "      <td>424.44</td>\n",
       "      <td>1225.7</td>\n",
       "      <td>17265.99</td>\n",
       "    </tr>\n",
       "    <tr>\n",
       "      <th>2014-09-19</th>\n",
       "      <td>394.80</td>\n",
       "      <td>1215.3</td>\n",
       "      <td>17279.74</td>\n",
       "    </tr>\n",
       "    <tr>\n",
       "      <th>2014-09-22</th>\n",
       "      <td>402.15</td>\n",
       "      <td>1216.8</td>\n",
       "      <td>17172.68</td>\n",
       "    </tr>\n",
       "    <tr>\n",
       "      <th>2014-09-23</th>\n",
       "      <td>435.79</td>\n",
       "      <td>1221.0</td>\n",
       "      <td>17055.87</td>\n",
       "    </tr>\n",
       "    <tr>\n",
       "      <th>...</th>\n",
       "      <td>...</td>\n",
       "      <td>...</td>\n",
       "      <td>...</td>\n",
       "    </tr>\n",
       "    <tr>\n",
       "      <th>2022-12-23</th>\n",
       "      <td>16796.95</td>\n",
       "      <td>1795.9</td>\n",
       "      <td>33203.93</td>\n",
       "    </tr>\n",
       "    <tr>\n",
       "      <th>2022-12-27</th>\n",
       "      <td>16717.17</td>\n",
       "      <td>1814.8</td>\n",
       "      <td>33241.56</td>\n",
       "    </tr>\n",
       "    <tr>\n",
       "      <th>2022-12-28</th>\n",
       "      <td>16552.57</td>\n",
       "      <td>1807.9</td>\n",
       "      <td>32875.71</td>\n",
       "    </tr>\n",
       "    <tr>\n",
       "      <th>2022-12-29</th>\n",
       "      <td>16642.34</td>\n",
       "      <td>1819.5</td>\n",
       "      <td>33220.80</td>\n",
       "    </tr>\n",
       "    <tr>\n",
       "      <th>2022-12-30</th>\n",
       "      <td>16602.59</td>\n",
       "      <td>1819.7</td>\n",
       "      <td>33147.25</td>\n",
       "    </tr>\n",
       "  </tbody>\n",
       "</table>\n",
       "<p>2085 rows × 3 columns</p>\n",
       "</div>"
      ],
      "text/plain": [
       "            btc_price  gold_price  dji_price\n",
       "date                                        \n",
       "2014-09-17     457.33      1234.4   17156.85\n",
       "2014-09-18     424.44      1225.7   17265.99\n",
       "2014-09-19     394.80      1215.3   17279.74\n",
       "2014-09-22     402.15      1216.8   17172.68\n",
       "2014-09-23     435.79      1221.0   17055.87\n",
       "...               ...         ...        ...\n",
       "2022-12-23   16796.95      1795.9   33203.93\n",
       "2022-12-27   16717.17      1814.8   33241.56\n",
       "2022-12-28   16552.57      1807.9   32875.71\n",
       "2022-12-29   16642.34      1819.5   33220.80\n",
       "2022-12-30   16602.59      1819.7   33147.25\n",
       "\n",
       "[2085 rows x 3 columns]"
      ]
     },
     "execution_count": 4,
     "metadata": {},
     "output_type": "execute_result"
    }
   ],
   "source": [
    "df"
   ]
  },
  {
   "cell_type": "code",
   "execution_count": 9,
   "id": "bfe7d2a2",
   "metadata": {},
   "outputs": [
    {
     "data": {
      "text/plain": [
       "((1042, 3), (626, 3), (417, 3))"
      ]
     },
     "execution_count": 9,
     "metadata": {},
     "output_type": "execute_result"
    }
   ],
   "source": [
    "# splitting data into train, validate, and test\n",
    "train, validate, test = p.split_data_explore(df)\n",
    "train.shape, validate.shape, test.shape"
   ]
  },
  {
   "cell_type": "code",
   "execution_count": 10,
   "id": "aed1c888",
   "metadata": {},
   "outputs": [
    {
     "data": {
      "text/html": [
       "<div>\n",
       "<style scoped>\n",
       "    .dataframe tbody tr th:only-of-type {\n",
       "        vertical-align: middle;\n",
       "    }\n",
       "\n",
       "    .dataframe tbody tr th {\n",
       "        vertical-align: top;\n",
       "    }\n",
       "\n",
       "    .dataframe thead th {\n",
       "        text-align: right;\n",
       "    }\n",
       "</style>\n",
       "<table border=\"1\" class=\"dataframe\">\n",
       "  <thead>\n",
       "    <tr style=\"text-align: right;\">\n",
       "      <th></th>\n",
       "      <th>btc_price</th>\n",
       "      <th>gold_price</th>\n",
       "      <th>dji_price</th>\n",
       "    </tr>\n",
       "    <tr>\n",
       "      <th>date</th>\n",
       "      <th></th>\n",
       "      <th></th>\n",
       "      <th></th>\n",
       "    </tr>\n",
       "  </thead>\n",
       "  <tbody>\n",
       "    <tr>\n",
       "      <th>2014-09-17</th>\n",
       "      <td>457.33</td>\n",
       "      <td>1234.4</td>\n",
       "      <td>17156.85</td>\n",
       "    </tr>\n",
       "    <tr>\n",
       "      <th>2014-09-18</th>\n",
       "      <td>424.44</td>\n",
       "      <td>1225.7</td>\n",
       "      <td>17265.99</td>\n",
       "    </tr>\n",
       "    <tr>\n",
       "      <th>2014-09-19</th>\n",
       "      <td>394.80</td>\n",
       "      <td>1215.3</td>\n",
       "      <td>17279.74</td>\n",
       "    </tr>\n",
       "    <tr>\n",
       "      <th>2014-09-22</th>\n",
       "      <td>402.15</td>\n",
       "      <td>1216.8</td>\n",
       "      <td>17172.68</td>\n",
       "    </tr>\n",
       "    <tr>\n",
       "      <th>2014-09-23</th>\n",
       "      <td>435.79</td>\n",
       "      <td>1221.0</td>\n",
       "      <td>17055.87</td>\n",
       "    </tr>\n",
       "  </tbody>\n",
       "</table>\n",
       "</div>"
      ],
      "text/plain": [
       "            btc_price  gold_price  dji_price\n",
       "date                                        \n",
       "2014-09-17     457.33      1234.4   17156.85\n",
       "2014-09-18     424.44      1225.7   17265.99\n",
       "2014-09-19     394.80      1215.3   17279.74\n",
       "2014-09-22     402.15      1216.8   17172.68\n",
       "2014-09-23     435.79      1221.0   17055.87"
      ]
     },
     "execution_count": 10,
     "metadata": {},
     "output_type": "execute_result"
    }
   ],
   "source": [
    "#displaying all columns and getting first 5 rows\n",
    "train.head()"
   ]
  },
  {
   "cell_type": "markdown",
   "id": "fe5908d1",
   "metadata": {},
   "source": [
    "# A summary of the data"
   ]
  },
  {
   "cell_type": "code",
   "execution_count": null,
   "id": "f1ef0888",
   "metadata": {},
   "outputs": [],
   "source": [
    "# a look at our column names, data types, and null counts\n",
    "train.info()"
   ]
  },
  {
   "cell_type": "markdown",
   "id": "671b5baa",
   "metadata": {},
   "source": [
    "# Explore"
   ]
  },
  {
   "cell_type": "code",
   "execution_count": 14,
   "id": "83d16fb6",
   "metadata": {},
   "outputs": [
    {
     "data": {
      "image/png": "[encoded data removed]",
      "text/plain": [
       "<Figure size 640x480 with 1 Axes>"
      ]
     },
     "metadata": {},
     "output_type": "display_data"
    }
   ],
   "source": [
    "df.plot()\n",
    "plt.show()"
   ]
  },
  {
   "cell_type": "markdown",
   "id": "0761a5cb",
   "metadata": {},
   "source": [
    "### *1. Will more bedrooms and bathrooms drive house value up?*"
   ]
  },
  {
   "cell_type": "code",
   "execution_count": null,
   "id": "d996421a",
   "metadata": {},
   "outputs": [],
   "source": [
    "# a bar plot showing us bathrooms compared to their respective home prices\n",
    "e.plot_categorical_and_continuous_vars(df, 'bathrooms', 'home_value')"
   ]
  },
  {
   "cell_type": "code",
   "execution_count": null,
   "id": "5b715d55",
   "metadata": {},
   "outputs": [],
   "source": [
    "# a bar plot showing us bedrooms compared to their respective home prices\n",
    "e.plot_categorical_and_continuous_vars(df,'bedrooms', 'home_value')"
   ]
  },
  {
   "cell_type": "markdown",
   "id": "7b5cfcdd",
   "metadata": {},
   "source": [
    "**Takeaways**\n",
    "\n",
    "- As bedrooms and bathrooms increase in a home, it seems like the price of the home increase\n",
    "\n",
    "____"
   ]
  },
  {
   "cell_type": "markdown",
   "id": "05158745",
   "metadata": {},
   "source": [
    "### *2. Does lot size sqft increase home value?*"
   ]
  },
  {
   "cell_type": "code",
   "execution_count": null,
   "id": "05b9e63f",
   "metadata": {},
   "outputs": [],
   "source": [
    "# # a scatter plot showing us a relationship between lot sqft to home prices\n",
    "e.lm_plot(df)"
   ]
  },
  {
   "cell_type": "markdown",
   "id": "93a4281d",
   "metadata": {},
   "source": [
    "**Takeaways**\n",
    "\n",
    "- It seems like as lot sqft goes up so does the price, but the correlation does not seem to be strong\n",
    "\n",
    "\n",
    "--------"
   ]
  },
  {
   "cell_type": "markdown",
   "id": "d0055667",
   "metadata": {},
   "source": [
    "### *3. Does the month of the transaction affect the price of the home?*"
   ]
  },
  {
   "cell_type": "code",
   "execution_count": null,
   "id": "8cbe6ae5",
   "metadata": {},
   "outputs": [],
   "source": [
    "# a bar plot showing us the transaction months to home prices\n",
    "e.plot_categorical_and_continuous_vars(df, 'transaction_month', 'home_value')"
   ]
  },
  {
   "cell_type": "markdown",
   "id": "66219bb4",
   "metadata": {},
   "source": [
    "**Takeaways**\n",
    "\n",
    "- It seems like September had the highest home price value followed by June.\n",
    "\n",
    "**Ran a pearsonr test to evaluate if there is relationship between transaction month and house value** <br>\n",
    "\n",
    "$H_0$: There is no relationship between home price and the month of the transaction<br>\n",
    "$H_a$: There is a relationship between the month of the transaction of the home and the price\n",
    "\n",
    " - Confidence interval of 95%\n",
    " - Alpha is .05\n"
   ]
  },
  {
   "cell_type": "markdown",
   "id": "24ac7d67",
   "metadata": {},
   "source": [
    "**Takeaways**\n",
    "\n",
    "- We reject the null hypothesis, meaning there is a relationship between transaction date and home value. Transaction date will be moved forward for modeling\n",
    "\n",
    "_____"
   ]
  },
  {
   "cell_type": "markdown",
   "id": "01c731d3",
   "metadata": {},
   "source": [
    "### *4. Are Orange County home values higher compared to Los Angeles and Ventura County home values?*\n"
   ]
  },
  {
   "cell_type": "code",
   "execution_count": null,
   "id": "97e65e1c",
   "metadata": {},
   "outputs": [],
   "source": [
    "# a bar plot showing us counties to home prices\n",
    "e.plot_categorical_and_continuous_vars(df, 'county', 'home_value')"
   ]
  },
  {
   "cell_type": "code",
   "execution_count": null,
   "id": "f94c5720",
   "metadata": {},
   "outputs": [],
   "source": [
    "# a scatter plot using latitude and longitude to map out homes in their counties\n",
    "e.outline(df)"
   ]
  },
  {
   "cell_type": "markdown",
   "id": "c9cfbe8b",
   "metadata": {},
   "source": [
    "**Takeaways**\n",
    "\n",
    "- It seems like Orange County homes are more expensive than the other two counties\n",
    "\n",
    "**Ran a one sample t test to evaluate if Oragne County Homes are more expensive than Los Angeles and Ventura** <br>\n",
    "\n",
    "$H_0$: Orange County home values are <= Los Angeles and Ventura home values<br>\n",
    "$H_a$: Orange County home values are > than Los Angeles and Ventura home values\n",
    "\n",
    " - Confidence interval of 95%\n",
    " - Alpha is .05\n"
   ]
  },
  {
   "cell_type": "code",
   "execution_count": null,
   "id": "3fd3212d",
   "metadata": {},
   "outputs": [],
   "source": [
    "# calling a function from explore.py to run a one sample t test\n",
    "e.county_stats_test(train)"
   ]
  },
  {
   "cell_type": "markdown",
   "id": "f82fc6bd",
   "metadata": {},
   "source": [
    "**The p-value is more than the Alpha. Therefore, we have strong support that Orange County homes are greater in value compared to Los Angeles and Ventura.**\n",
    "\n",
    "----"
   ]
  },
  {
   "cell_type": "markdown",
   "id": "5755e58a",
   "metadata": {},
   "source": [
    "# Exploration Summary"
   ]
  },
  {
   "cell_type": "markdown",
   "id": "74e4e430",
   "metadata": {},
   "source": [
    "**- Bedrooms, bathrooms, lot sqft, transaction month, and county were found to be features that affect the home value**<br>\n",
    "**- All features will be added for the modeling phase<br>**\n",
    "**- County and transaction month seem to have the strongest influence.**\n",
    " \n",
    " ------"
   ]
  },
  {
   "cell_type": "markdown",
   "id": "4c540f0a",
   "metadata": {},
   "source": [
    "# Modeling "
   ]
  },
  {
   "cell_type": "markdown",
   "id": "7b403389",
   "metadata": {},
   "source": [
    "- Goal is to minimize RMSE, so this will be my evaluation metric\n",
    "- Ran 3 models including a Linear Regression , LassoLars, and a Polynomial \n",
    "- Before modeling scaled data and split\n",
    "- I evaluated the models on train and validate data \n",
    "- The best performing model then was evaluated on test data subset"
   ]
  },
  {
   "cell_type": "code",
   "execution_count": null,
   "id": "6b42d0fd",
   "metadata": {},
   "outputs": [],
   "source": [
    "# wrote a function to scale my train, validate, and test data subsets\n",
    "train_scaled, validate_scaled, test_scaled = m.mvp_scaled_data(train, validate, test)"
   ]
  },
  {
   "cell_type": "code",
   "execution_count": null,
   "id": "ee672404",
   "metadata": {},
   "outputs": [],
   "source": [
    "# looking at one line of data in our scaled data\n",
    "train_scaled.head(1)"
   ]
  },
  {
   "cell_type": "code",
   "execution_count": null,
   "id": "bd2a806e",
   "metadata": {},
   "outputs": [],
   "source": [
    "# calling a function I wrote in my modeling.py to split my data in to X/y train, validate, test\n",
    "X_train, y_train, X_validate,y_validate, X_test, y_test = m.splitting_subsets(train, train_scaled, validate_scaled, test_scaled)"
   ]
  },
  {
   "cell_type": "code",
   "execution_count": null,
   "id": "726913a8",
   "metadata": {},
   "outputs": [],
   "source": [
    "# a look to 1st observation of our scaled, split, train subset\n",
    "X_train.head(1)"
   ]
  },
  {
   "cell_type": "code",
   "execution_count": null,
   "id": "cf7a5292",
   "metadata": {},
   "outputs": [],
   "source": [
    "# called my function that in my modeling.py to demostrate my 3 best models and the baseline\n",
    "# this includes the train rmse, validate rmse, and their difference \n",
    "\n",
    "m.best_models(X_train, y_train, X_validate, y_validate)"
   ]
  },
  {
   "cell_type": "markdown",
   "id": "a0d25f16",
   "metadata": {},
   "source": [
    "### Modeling Summary & Evaluation "
   ]
  },
  {
   "cell_type": "markdown",
   "id": "c1bd2cdb",
   "metadata": {},
   "source": [
    "**The best performing model is the linear polynomial, so we tested the model with the test data**"
   ]
  },
  {
   "cell_type": "code",
   "execution_count": null,
   "id": "544ae716",
   "metadata": {},
   "outputs": [],
   "source": [
    "# this is the best model and ran the test data on it\n",
    "m.best_model(X_train, y_train, X_validate, y_validate, X_test, y_test)"
   ]
  },
  {
   "cell_type": "markdown",
   "id": "9c74af7b",
   "metadata": {},
   "source": [
    "------"
   ]
  },
  {
   "cell_type": "markdown",
   "id": "333725a6",
   "metadata": {},
   "source": [
    "<div class=\"alert alert-info\">\n",
    "    <header>\n",
    "    <h2>Conclusions:</h2>    \n",
    "</header>    \n",
    "<dt>\n",
    "    \n",
    "Home value predictions were used by minimizing RMSE within our models. County and transaction month have proven to be the most valuable, but there is still room for improvement.\n",
    "<br>        \n",
    "Best Model's performance:\n",
    "\n",
    "- My best model reduced the root mean squared error by 82500 dollars compared to the baseline results.\n",
    "\n",
    "- RMSE 82493.41 dollars on in-sample (train), RMSE 84100.76 dollars on out-of-sample data (validate) and RMSE of 80897.87 dollars on the test data.</dt>\n",
    "\n",
    "<header>\n",
    "    <h2>Recommendations:</h2>        \n",
    "</header>      \n",
    "<dl>\n",
    "    \n",
    "- I would recommend using counties and transaction months to build models to predict home values. \n",
    "\n",
    "- I would also recommend collecting more data about the homes. For example, crime rates in the county, average salary within neighborhoods, and school rankings.\n",
    " \n",
    "\n",
    "<header>\n",
    "    <h2> Next Steps:</h2>       \n",
    "</header> \n",
    "</dl>\n",
    "    \n",
    "- I would add more columns/features from the database to see if there are better relationships to help predict price.\n",
    "\n",
    "- Consider adding different hyperparameters to models for better results.  \n",
    "\n",
    "</div>"
   ]
  }
 ],
 "metadata": {
  "kernelspec": {
   "display_name": "Python 3 (ipykernel)",
   "language": "python",
   "name": "python3"
  },
  "language_info": {
   "codemirror_mode": {
    "name": "ipython",
    "version": 3
   },
   "file_extension": ".py",
   "mimetype": "text/x-python",
   "name": "python",
   "nbconvert_exporter": "python",
   "pygments_lexer": "ipython3",
   "version": "3.9.13"
  }
 },
 "nbformat": 4,
 "nbformat_minor": 5
}
